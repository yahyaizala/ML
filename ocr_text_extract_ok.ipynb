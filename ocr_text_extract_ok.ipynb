{
  "nbformat": 4,
  "nbformat_minor": 0,
  "metadata": {
    "colab": {
      "provenance": [],
      "collapsed_sections": [],
      "toc_visible": true,
      "include_colab_link": true
    },
    "kernelspec": {
      "name": "python3",
      "display_name": "Python 3"
    }
  },
  "cells": [
    {
      "cell_type": "markdown",
      "metadata": {
        "id": "view-in-github",
        "colab_type": "text"
      },
      "source": [
        "<a href=\"https://colab.research.google.com/github/yahyaizala/ML/blob/master/ocr_text_extract_ok.ipynb\" target=\"_parent\"><img src=\"https://colab.research.google.com/assets/colab-badge.svg\" alt=\"Open In Colab\"/></a>"
      ]
    },
    {
      "cell_type": "markdown",
      "metadata": {
        "id": "XuWRbR1Dtszo"
      },
      "source": [
        "# Tool extract excel tables from images\n",
        "\n",
        "> by soiqualang_chentreu"
      ]
    },
    {
      "cell_type": "markdown",
      "metadata": {
        "id": "LYUEkbfOyNRp"
      },
      "source": [
        "## Hướng dẫn\n",
        "\n",
        "* Tạo thư mục tên `img_folder`\n",
        "* Định dạng hình ảnh phải là `*.jpg`\n",
        "* Upload hình ảnh vào folder `img_folder`\n",
        "* `Runtime` > `Run all` hoặc nhấn tổ hợp phím `Ctrl` `F9`\n",
        "* Kéo xuống dưới cùng, đợi ứng dụng chạy xong\n",
        "* Download file `excel_folder.zip`\n",
        "\n",
        "## Youtube\n",
        "\n",
        "https://youtu.be/TapPezyA2Ao"
      ]
    },
    {
      "cell_type": "code",
      "metadata": {
        "id": "e7bm2HT6pA1m"
      },
      "source": [
        "# !rm -r sample_data/"
      ],
      "execution_count": null,
      "outputs": []
    },
    {
      "cell_type": "markdown",
      "metadata": {
        "id": "ORd5S-YRpCiC"
      },
      "source": [
        "## Preferences\n",
        "\n",
        "https://gist.github.com/soiqualang/9024becf6e6b6321601b61e53bbcab6c\n",
        "\n",
        "https://towardsdatascience.com/a-table-detection-cell-recognition-and-text-extraction-algorithm-to-convert-tables-to-excel-files-902edcf289ec\n",
        "\n",
        "https://stackoverflow.com/questions/50951955/pytesseract-tesseractnotfound-error-tesseract-is-not-installed-or-its-not-i\n",
        "\n",
        "https://www.pyimagesearch.com/2017/07/10/using-tesseract-ocr-python/\n",
        "\n",
        "https://nanonets.com/blog/ocr-with-tesseract/\n",
        "\n",
        "## Cài đặt tesseract\n",
        "\n",
        "https://github.com/tesseract-ocr/tesseract/wiki"
      ]
    },
    {
      "cell_type": "code",
      "metadata": {
        "id": "pitiqpSBpgLG",
        "colab": {
          "base_uri": "https://localhost:8080/",
          "height": 207
        },
        "outputId": "f5a2deb5-4453-4694-b248-93ae656aaea3"
      },
      "source": [
        "!pip install pytesseract"
      ],
      "execution_count": null,
      "outputs": [
        {
          "output_type": "stream",
          "text": [
            "Collecting pytesseract\n",
            "  Downloading https://files.pythonhosted.org/packages/1d/d8/521db389ff0aae32035bfda6ed39cb2c2e28521c47015f6431f07460c50a/pytesseract-0.3.4.tar.gz\n",
            "Requirement already satisfied: Pillow in /usr/local/lib/python3.6/dist-packages (from pytesseract) (7.0.0)\n",
            "Building wheels for collected packages: pytesseract\n",
            "  Building wheel for pytesseract (setup.py) ... \u001b[?25l\u001b[?25hdone\n",
            "  Created wheel for pytesseract: filename=pytesseract-0.3.4-py2.py3-none-any.whl size=13431 sha256=9e39f93a34c6ea1b7b853dbd0d14536bc92228d1ed9316bc59d45a1ac1500e10\n",
            "  Stored in directory: /root/.cache/pip/wheels/63/2a/a0/7596d2e0a73cf0aeffd6f6170862c4e73f3763b7827e48691a\n",
            "Successfully built pytesseract\n",
            "Installing collected packages: pytesseract\n",
            "Successfully installed pytesseract-0.3.4\n"
          ],
          "name": "stdout"
        }
      ]
    },
    {
      "cell_type": "code",
      "metadata": {
        "id": "WyYM370ap7OW"
      },
      "source": [
        "# !sudo apt-get update\n",
        "# !sudo apt-get install libleptonica-dev \n",
        "# !sudo apt-get install tesseract-ocr tesseract-ocr-dev\n",
        "# !sudo apt-get install libtesseract-dev"
      ],
      "execution_count": null,
      "outputs": []
    },
    {
      "cell_type": "code",
      "metadata": {
        "id": "EJ_j1u_UrtTf",
        "colab": {
          "base_uri": "https://localhost:8080/",
          "height": 1000
        },
        "outputId": "5a69e115-db21-4a29-babf-2f61bc11b434"
      },
      "source": [
        "!sudo apt install tesseract-ocr\n",
        "!sudo apt install libtesseract-dev"
      ],
      "execution_count": null,
      "outputs": [
        {
          "output_type": "stream",
          "text": [
            "Reading package lists... Done\n",
            "Building dependency tree       \n",
            "Reading state information... Done\n",
            "The following package was automatically installed and is no longer required:\n",
            "  libnvidia-common-440\n",
            "Use 'sudo apt autoremove' to remove it.\n",
            "The following additional packages will be installed:\n",
            "  tesseract-ocr-eng tesseract-ocr-osd\n",
            "The following NEW packages will be installed:\n",
            "  tesseract-ocr tesseract-ocr-eng tesseract-ocr-osd\n",
            "0 upgraded, 3 newly installed, 0 to remove and 35 not upgraded.\n",
            "Need to get 4,795 kB of archives.\n",
            "After this operation, 15.8 MB of additional disk space will be used.\n",
            "Get:1 http://archive.ubuntu.com/ubuntu bionic/universe amd64 tesseract-ocr-eng all 4.00~git24-0e00fe6-1.2 [1,588 kB]\n",
            "Get:2 http://archive.ubuntu.com/ubuntu bionic/universe amd64 tesseract-ocr-osd all 4.00~git24-0e00fe6-1.2 [2,989 kB]\n",
            "Get:3 http://archive.ubuntu.com/ubuntu bionic/universe amd64 tesseract-ocr amd64 4.00~git2288-10f4998a-2 [218 kB]\n",
            "Fetched 4,795 kB in 1s (4,631 kB/s)\n",
            "debconf: unable to initialize frontend: Dialog\n",
            "debconf: (No usable dialog-like program is installed, so the dialog based frontend cannot be used. at /usr/share/perl5/Debconf/FrontEnd/Dialog.pm line 76, <> line 3.)\n",
            "debconf: falling back to frontend: Readline\n",
            "debconf: unable to initialize frontend: Readline\n",
            "debconf: (This frontend requires a controlling tty.)\n",
            "debconf: falling back to frontend: Teletype\n",
            "dpkg-preconfigure: unable to re-open stdin: \n",
            "Selecting previously unselected package tesseract-ocr-eng.\n",
            "(Reading database ... 144465 files and directories currently installed.)\n",
            "Preparing to unpack .../tesseract-ocr-eng_4.00~git24-0e00fe6-1.2_all.deb ...\n",
            "Unpacking tesseract-ocr-eng (4.00~git24-0e00fe6-1.2) ...\n",
            "Selecting previously unselected package tesseract-ocr-osd.\n",
            "Preparing to unpack .../tesseract-ocr-osd_4.00~git24-0e00fe6-1.2_all.deb ...\n",
            "Unpacking tesseract-ocr-osd (4.00~git24-0e00fe6-1.2) ...\n",
            "Selecting previously unselected package tesseract-ocr.\n",
            "Preparing to unpack .../tesseract-ocr_4.00~git2288-10f4998a-2_amd64.deb ...\n",
            "Unpacking tesseract-ocr (4.00~git2288-10f4998a-2) ...\n",
            "Setting up tesseract-ocr-osd (4.00~git24-0e00fe6-1.2) ...\n",
            "Setting up tesseract-ocr-eng (4.00~git24-0e00fe6-1.2) ...\n",
            "Setting up tesseract-ocr (4.00~git2288-10f4998a-2) ...\n",
            "Processing triggers for man-db (2.8.3-2ubuntu0.1) ...\n",
            "Reading package lists... Done\n",
            "Building dependency tree       \n",
            "Reading state information... Done\n",
            "The following package was automatically installed and is no longer required:\n",
            "  libnvidia-common-440\n",
            "Use 'sudo apt autoremove' to remove it.\n",
            "The following additional packages will be installed:\n",
            "  libleptonica-dev\n",
            "The following NEW packages will be installed:\n",
            "  libleptonica-dev libtesseract-dev\n",
            "0 upgraded, 2 newly installed, 0 to remove and 35 not upgraded.\n",
            "Need to get 2,755 kB of archives.\n",
            "After this operation, 13.8 MB of additional disk space will be used.\n",
            "Get:1 http://archive.ubuntu.com/ubuntu bionic/universe amd64 libleptonica-dev amd64 1.75.3-3 [1,308 kB]\n",
            "Get:2 http://archive.ubuntu.com/ubuntu bionic/universe amd64 libtesseract-dev amd64 4.00~git2288-10f4998a-2 [1,447 kB]\n",
            "Fetched 2,755 kB in 1s (2,931 kB/s)\n",
            "debconf: unable to initialize frontend: Dialog\n",
            "debconf: (No usable dialog-like program is installed, so the dialog based frontend cannot be used. at /usr/share/perl5/Debconf/FrontEnd/Dialog.pm line 76, <> line 2.)\n",
            "debconf: falling back to frontend: Readline\n",
            "debconf: unable to initialize frontend: Readline\n",
            "debconf: (This frontend requires a controlling tty.)\n",
            "debconf: falling back to frontend: Teletype\n",
            "dpkg-preconfigure: unable to re-open stdin: \n",
            "Selecting previously unselected package libleptonica-dev.\n",
            "(Reading database ... 144512 files and directories currently installed.)\n",
            "Preparing to unpack .../libleptonica-dev_1.75.3-3_amd64.deb ...\n",
            "Unpacking libleptonica-dev (1.75.3-3) ...\n",
            "Selecting previously unselected package libtesseract-dev.\n",
            "Preparing to unpack .../libtesseract-dev_4.00~git2288-10f4998a-2_amd64.deb ...\n",
            "Unpacking libtesseract-dev (4.00~git2288-10f4998a-2) ...\n",
            "Setting up libleptonica-dev (1.75.3-3) ...\n",
            "Setting up libtesseract-dev (4.00~git2288-10f4998a-2) ...\n"
          ],
          "name": "stdout"
        }
      ]
    },
    {
      "cell_type": "code",
      "metadata": {
        "id": "LutDvR6RqGj2",
        "colab": {
          "base_uri": "https://localhost:8080/",
          "height": 377
        },
        "outputId": "515d6179-00f5-463c-8dce-62a6371a77ae"
      },
      "source": [
        "!pip install tesseract\n",
        "!pip install tesseract-ocr"
      ],
      "execution_count": null,
      "outputs": [
        {
          "output_type": "stream",
          "text": [
            "Collecting tesseract\n",
            "\u001b[?25l  Downloading https://files.pythonhosted.org/packages/8d/b7/c4fae9af5842f69d9c45bf1195a94aec090628535c102894552a7a7dbe6c/tesseract-0.1.3.tar.gz (45.6MB)\n",
            "\u001b[K     |████████████████████████████████| 45.6MB 88kB/s \n",
            "\u001b[?25hBuilding wheels for collected packages: tesseract\n",
            "  Building wheel for tesseract (setup.py) ... \u001b[?25l\u001b[?25hdone\n",
            "  Created wheel for tesseract: filename=tesseract-0.1.3-cp36-none-any.whl size=45562571 sha256=b9941fed9290319984c15e21d6c9297c69b837fe134001464baab2554ff5313c\n",
            "  Stored in directory: /root/.cache/pip/wheels/82/1f/d9/24797b123379e4ea9511cf660835468b62dad609634cad2aba\n",
            "Successfully built tesseract\n",
            "Installing collected packages: tesseract\n",
            "Successfully installed tesseract-0.1.3\n",
            "Collecting tesseract-ocr\n",
            "  Downloading https://files.pythonhosted.org/packages/e2/0d/dcee3dd0fc4c7bcd18125a98f8ba6d9db7aecaa40770595203e312649587/tesseract-ocr-0.0.1.tar.gz\n",
            "Requirement already satisfied: cython in /usr/local/lib/python3.6/dist-packages (from tesseract-ocr) (0.29.21)\n",
            "Building wheels for collected packages: tesseract-ocr\n",
            "  Building wheel for tesseract-ocr (setup.py) ... \u001b[?25l\u001b[?25hdone\n",
            "  Created wheel for tesseract-ocr: filename=tesseract_ocr-0.0.1-cp36-cp36m-linux_x86_64.whl size=115292 sha256=07cde10ff16ed0c57d784209f3e228231b8923b439f04950e076fe51faf3f56d\n",
            "  Stored in directory: /root/.cache/pip/wheels/7d/32/ba/e0852fe25fb388c8108871713a344ec638e231d27f53b742db\n",
            "Successfully built tesseract-ocr\n",
            "Installing collected packages: tesseract-ocr\n",
            "Successfully installed tesseract-ocr-0.0.1\n"
          ],
          "name": "stdout"
        }
      ]
    },
    {
      "cell_type": "code",
      "metadata": {
        "id": "LlZAkpbkrQx3",
        "colab": {
          "base_uri": "https://localhost:8080/",
          "height": 255
        },
        "outputId": "08c321cc-0008-4676-f82b-2b1b10aaf10d"
      },
      "source": [
        "!tesseract"
      ],
      "execution_count": null,
      "outputs": [
        {
          "output_type": "stream",
          "text": [
            "Usage:\n",
            "  tesseract --help | --help-extra | --version\n",
            "  tesseract --list-langs\n",
            "  tesseract imagename outputbase [options...] [configfile...]\n",
            "\n",
            "OCR options:\n",
            "  -l LANG[+LANG]        Specify language(s) used for OCR.\n",
            "NOTE: These options must occur before any configfile.\n",
            "\n",
            "Single options:\n",
            "  --help                Show this help message.\n",
            "  --help-extra          Show extra help for advanced users.\n",
            "  --version             Show version information.\n",
            "  --list-langs          List available languages for tesseract engine.\n"
          ],
          "name": "stdout"
        }
      ]
    },
    {
      "cell_type": "code",
      "metadata": {
        "id": "eMVCUhyLpAy-"
      },
      "source": [
        "import cv2\n",
        "import numpy as np\n",
        "import pandas as pd\n",
        "import matplotlib.pyplot as plt\n",
        "import csv\n",
        "\n",
        "import os\n",
        "from pathlib import Path\n",
        "import subprocess"
      ],
      "execution_count": null,
      "outputs": []
    },
    {
      "cell_type": "code",
      "metadata": {
        "id": "WJCWUFc5wCMQ"
      },
      "source": [
        "\n",
        "def getFname(path):\n",
        "    #Quandao_HoangSa_VietNam.kml\n",
        "    if('/' in path):\n",
        "        arr1=path.split('/')\n",
        "    else:\n",
        "        arr1=path.split('\\\\')\n",
        "    return arr1[len(arr1)-1].replace(\".jpg\", \".xlsx\")\n",
        "\n",
        "def image2excel(imgfile,excelfile):\n",
        "\n",
        "    try:\n",
        "        from PIL import Image\n",
        "    except ImportError:\n",
        "        import Image\n",
        "    import pytesseract\n",
        "\n",
        "    #read your file\n",
        "    file=imgfile\n",
        "    img = cv2.imread(file,0)\n",
        "    img.shape\n",
        "\n",
        "    #thresholding the image to a binary image\n",
        "    thresh,img_bin = cv2.threshold(img,128,255,cv2.THRESH_BINARY | cv2.THRESH_OTSU)\n",
        "\n",
        "    #inverting the image \n",
        "    img_bin = 255-img_bin\n",
        "    cv2.imwrite('tmp/cv_inverted.png',img_bin)\n",
        "    #Plotting the image to see the output\n",
        "    plotting = plt.imshow(img_bin,cmap='gray')\n",
        "    # plt.show()\n",
        "\n",
        "    # countcol(width) of kernel as 100th of total width\n",
        "    kernel_len = np.array(img).shape[1]//100\n",
        "    # Defining a vertical kernel to detect all vertical lines of image \n",
        "    ver_kernel = cv2.getStructuringElement(cv2.MORPH_RECT, (1, kernel_len))\n",
        "    # Defining a horizontal kernel to detect all horizontal lines of image\n",
        "    hor_kernel = cv2.getStructuringElement(cv2.MORPH_RECT, (kernel_len, 1))\n",
        "    # A kernel of 2x2\n",
        "    kernel = cv2.getStructuringElement(cv2.MORPH_RECT, (2, 2))\n",
        "\n",
        "    #Use vertical kernel to detect and save the vertical lines in a jpg\n",
        "    image_1 = cv2.erode(img_bin, ver_kernel, iterations=3)\n",
        "    vertical_lines = cv2.dilate(image_1, ver_kernel, iterations=3)\n",
        "    cv2.imwrite(\"tmp/vertical.jpg\",vertical_lines)\n",
        "    #Plot the generated image\n",
        "    plotting = plt.imshow(image_1,cmap='gray')\n",
        "    # plt.show()\n",
        "\n",
        "    #Use horizontal kernel to detect and save the horizontal lines in a jpg\n",
        "    image_2 = cv2.erode(img_bin, hor_kernel, iterations=3)\n",
        "    horizontal_lines = cv2.dilate(image_2, hor_kernel, iterations=3)\n",
        "    cv2.imwrite(\"tmp/horizontal.jpg\",horizontal_lines)\n",
        "    #Plot the generated image\n",
        "    plotting = plt.imshow(image_2,cmap='gray')\n",
        "    # plt.show()\n",
        "\n",
        "    # Combine horizontal and vertical lines in a new third image, with both having same weight.\n",
        "    img_vh = cv2.addWeighted(vertical_lines, 0.5, horizontal_lines, 0.5, 0.0)\n",
        "    #Eroding and thesholding the image\n",
        "    img_vh = cv2.erode(~img_vh, kernel, iterations=2)\n",
        "    thresh, img_vh = cv2.threshold(img_vh,128,255, cv2.THRESH_BINARY | cv2.THRESH_OTSU)\n",
        "    cv2.imwrite(\"tmp/img_vh.jpg\", img_vh)\n",
        "    bitxor = cv2.bitwise_xor(img,img_vh)\n",
        "    bitnot = cv2.bitwise_not(bitxor)\n",
        "    #Plotting the generated image\n",
        "    plotting = plt.imshow(bitnot,cmap='gray')\n",
        "    # plt.show()\n",
        "\n",
        "    # Detect contours for following box detection\n",
        "    contours, hierarchy = cv2.findContours(img_vh, cv2.RETR_TREE, cv2.CHAIN_APPROX_SIMPLE)\n",
        "\n",
        "    def sort_contours(cnts, method=\"left-to-right\"):\n",
        "        # initialize the reverse flag and sort index\n",
        "        reverse = False\n",
        "        i = 0\n",
        "        # handle if we need to sort in reverse\n",
        "        if method == \"right-to-left\" or method == \"bottom-to-top\":\n",
        "            reverse = True\n",
        "        # handle if we are sorting against the y-coordinate rather than\n",
        "        # the x-coordinate of the bounding box\n",
        "        if method == \"top-to-bottom\" or method == \"bottom-to-top\":\n",
        "            i = 1\n",
        "        # construct the list of bounding boxes and sort them from top to\n",
        "        # bottom\n",
        "        boundingBoxes = [cv2.boundingRect(c) for c in cnts]\n",
        "        (cnts, boundingBoxes) = zip(*sorted(zip(cnts, boundingBoxes),\n",
        "        key=lambda b:b[1][i], reverse=reverse))\n",
        "        # return the list of sorted contours and bounding boxes\n",
        "        return (cnts, boundingBoxes)\n",
        "\n",
        "    # Sort all the contours by top to bottom.\n",
        "    contours, boundingBoxes = sort_contours(contours, method=\"top-to-bottom\")\n",
        "\n",
        "    #Creating a list of heights for all detected boxes\n",
        "    heights = [boundingBoxes[i][3] for i in range(len(boundingBoxes))]\n",
        "\n",
        "    #Get mean of heights\n",
        "    mean = np.mean(heights)\n",
        "\n",
        "    #Create list box to store all boxes in  \n",
        "    box = []\n",
        "    # Get position (x,y), width and height for every contour and show the contour on image\n",
        "    for c in contours:\n",
        "        x, y, w, h = cv2.boundingRect(c)\n",
        "        if (w<1000 and h<500):\n",
        "            image = cv2.rectangle(img,(x,y),(x+w,y+h),(0,255,0),2)\n",
        "            box.append([x,y,w,h])\n",
        "            \n",
        "    plotting = plt.imshow(image,cmap='gray')\n",
        "    # plt.show()\n",
        "\n",
        "    #Creating two lists to define row and column in which cell is located\n",
        "    row=[]\n",
        "    column=[]\n",
        "    j=0\n",
        "\n",
        "    #Sorting the boxes to their respective row and column\n",
        "    for i in range(len(box)):    \n",
        "            \n",
        "        if(i==0):\n",
        "            column.append(box[i])\n",
        "            previous=box[i]    \n",
        "        \n",
        "        else:\n",
        "            if(box[i][1]<=previous[1]+mean/2):\n",
        "                column.append(box[i])\n",
        "                previous=box[i]            \n",
        "                \n",
        "                if(i==len(box)-1):\n",
        "                    row.append(column)        \n",
        "                \n",
        "            else:\n",
        "                row.append(column)\n",
        "                column=[]\n",
        "                previous = box[i]\n",
        "                column.append(box[i])\n",
        "                \n",
        "    # print(column)\n",
        "    # print(row)\n",
        "\n",
        "    #calculating maximum number of cells\n",
        "    countcol = 0\n",
        "    for i in range(len(row)):\n",
        "        countcol = len(row[i])\n",
        "        if countcol > countcol:\n",
        "            countcol = countcol\n",
        "\n",
        "    #Retrieving the center of each column\n",
        "    center = [int(row[i][j][0]+row[i][j][2]/2) for j in range(len(row[i])) if row[0]]\n",
        "\n",
        "    center=np.array(center)\n",
        "    center.sort()\n",
        "    # print(center)\n",
        "    #Regarding the distance to the columns center, the boxes are arranged in respective order\n",
        "\n",
        "    finalboxes = []\n",
        "    for i in range(len(row)):\n",
        "        lis=[]\n",
        "        for k in range(countcol):\n",
        "            lis.append([])\n",
        "        for j in range(len(row[i])):\n",
        "            diff = abs(center-(row[i][j][0]+row[i][j][2]/4))\n",
        "            minimum = min(diff)\n",
        "            indexing = list(diff).index(minimum)\n",
        "            lis[indexing].append(row[i][j])\n",
        "        finalboxes.append(lis)\n",
        "\n",
        "\n",
        "    #from every single image-based cell/box the strings are extracted via pytesseract and stored in a list\n",
        "    outer=[]\n",
        "    for i in range(len(finalboxes)):\n",
        "        for j in range(len(finalboxes[i])):\n",
        "            inner=''\n",
        "            if(len(finalboxes[i][j])==0):\n",
        "                outer.append(' ')\n",
        "            else:\n",
        "                for k in range(len(finalboxes[i][j])):\n",
        "                    y,x,w,h = finalboxes[i][j][k][0],finalboxes[i][j][k][1], finalboxes[i][j][k][2],finalboxes[i][j][k][3]\n",
        "                    finalimg = bitnot[x:x+h, y:y+w]\n",
        "                    kernel = cv2.getStructuringElement(cv2.MORPH_RECT, (2, 1))\n",
        "                    border = cv2.copyMakeBorder(finalimg,2,2,2,2, cv2.BORDER_CONSTANT,value=[255,255])\n",
        "                    resizing = cv2.resize(border, None, fx=2, fy=2, interpolation=cv2.INTER_CUBIC)\n",
        "                    dilation = cv2.dilate(resizing, kernel,iterations=1)\n",
        "                    erosion = cv2.erode(dilation, kernel,iterations=2)\n",
        "                    \n",
        "                    out = pytesseract.image_to_string(erosion)\n",
        "                    if(len(out)==0):\n",
        "                        out = pytesseract.image_to_string(erosion, config='--psm 3')\n",
        "                    inner = inner +\" \"+ out\n",
        "                outer.append(inner)\n",
        "\n",
        "    #Creating a dataframe of the generated OCR list\n",
        "    arr = np.array(outer)\n",
        "    dataframe = pd.DataFrame(arr.reshape(len(row), countcol))\n",
        "    print(dataframe)\n",
        "    data = dataframe.style.set_properties(align=\"left\")\n",
        "    #Converting it in a excel-file\n",
        "    data.to_excel(excelfile)"
      ],
      "execution_count": null,
      "outputs": []
    },
    {
      "cell_type": "markdown",
      "metadata": {
        "id": "GHZT1WdG40Uk"
      },
      "source": [
        "## Lưu ý\n",
        "\n",
        "Những lần chạy sau có thể chỉ cần chạy từ cell này trở xuống vì mình đã cài thư viện rồi"
      ]
    },
    {
      "cell_type": "markdown",
      "metadata": {
        "id": "Hvejzd3W42lZ"
      },
      "source": [
        "## Xóa làm lại"
      ]
    },
    {
      "cell_type": "code",
      "metadata": {
        "id": "BlBZTJsgwF0P"
      },
      "source": [
        "img_folder=Path('img_folder')\n",
        "excel_folder=Path('excel_folder')\n",
        "tmp=Path('tmp')\n",
        "\n",
        "# Xóa zip file\n",
        "if os.path.exists('excel_folder.zip'):\n",
        "    !rm excel_folder.zip\n",
        "\n",
        "# Kiểm tra đã có folder đầu ra chưa - excel_folder\n",
        "if os.path.exists(excel_folder):\n",
        "    !rm -r excel_folder\n",
        "    os.makedirs(excel_folder)\n",
        "else:\n",
        "    os.makedirs(excel_folder)\n",
        "# Kiểm tra đã có thư mục tạm chưa - tmp\n",
        "if os.path.exists(tmp):\n",
        "    !rm -r tmp\n",
        "    os.makedirs(tmp)\n",
        "else:\n",
        "    os.makedirs(tmp)"
      ],
      "execution_count": null,
      "outputs": []
    },
    {
      "cell_type": "markdown",
      "metadata": {
        "id": "dEadduLr443h"
      },
      "source": [
        "## Bắt đầu convert"
      ]
    },
    {
      "cell_type": "code",
      "metadata": {
        "id": "5ox1S1SWx0hp",
        "colab": {
          "base_uri": "https://localhost:8080/",
          "height": 1000
        },
        "outputId": "8b1c190a-cce3-42f3-c6f5-060a30444f64"
      },
      "source": [
        "for fdir in img_folder.glob('*.jpg'):\n",
        "    fname=getFname(str(fdir))\n",
        "    print('-----------')\n",
        "    print('Đang convert %s...' % (fname))    \n",
        "    image2excel(str(fdir),str(excel_folder)+'/'+str(fname))\n",
        "\n",
        "print('##################')\n",
        "print('##################')\n",
        "print('##################')\n",
        "print('Đang nén thành file excel_folder.zip...')\n",
        "cmd='zip -r excel_folder.zip '+str(excel_folder)\n",
        "p1 = subprocess.Popen(cmd,shell=True)\n",
        "p1.wait()\n",
        "print('Đã xong, mời bạn download file excel_folder.zip')"
      ],
      "execution_count": null,
      "outputs": [
        {
          "output_type": "stream",
          "text": [
            "-----------\n",
            "Đang convert 3f0f89671873e42dbd62.xlsx...\n",
            "                                                    0             1\n",
            "0                                                                  \n",
            "1                                                                  \n",
            "2                                                                  \n",
            "3                                                                  \n",
            "4                                                                  \n",
            "5                                                                  \n",
            "6                                                                  \n",
            "7                                                                  \n",
            "8                                                                  \n",
            "9                                                                  \n",
            "10                                                                 \n",
            "11                                                                 \n",
            "12                                                                 \n",
            "13                                                                 \n",
            "14                                                                 \n",
            "15                                                                 \n",
            "16                                                                 \n",
            "17                                                                 \n",
            "18                                                                 \n",
            "19                                                                 \n",
            "20                                                                 \n",
            "21                                                                 \n",
            "22                                                                 \n",
            "23                   TT a\\n\\nFlow of Ba river - Tung               \n",
            "24                                                                 \n",
            "25                                                                 \n",
            "26                                                                 \n",
            "27                                                                 \n",
            "28                                                                 \n",
            "29                                                                 \n",
            "30                                                ...              \n",
            "31                                                                 \n",
            "32                                                                 \n",
            "33                                                                 \n",
            "34                                                                 \n",
            "35                                                                 \n",
            "36                                                                 \n",
            "##################\n",
            "##################\n",
            "##################\n",
            "Đang nén thành file excel_folder.zip...\n",
            "Đã xong, mời bạn download file excel_folder.zip\n"
          ],
          "name": "stdout"
        },
        {
          "output_type": "display_data",
          "data": {
            "image/png": "[encoded data removed]",
            "text/plain": [
              "<Figure size 432x288 with 1 Axes>"
            ]
          },
          "metadata": {
            "tags": [],
            "needs_background": "light"
          }
        }
      ]
    },
    {
      "cell_type": "code",
      "metadata": {
        "id": "6SoaVIjkq6e2"
      },
      "source": [
        "# image2excel('h1.png','h1.xlsx')\n",
        "# image2excel('h2.jpg','h2.xlsx')"
      ],
      "execution_count": null,
      "outputs": []
    },
    {
      "cell_type": "code",
      "metadata": {
        "id": "SjD964sqvGDd"
      },
      "source": [],
      "execution_count": null,
      "outputs": []
    },
    {
      "cell_type": "code",
      "metadata": {
        "id": "FTlX6MlavSbO"
      },
      "source": [],
      "execution_count": null,
      "outputs": []
    }
  ]
}